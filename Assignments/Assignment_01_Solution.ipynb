{
 "cells": [
  {
   "cell_type": "markdown",
   "metadata": {},
   "source": [
    "![header](../header.png)"
   ]
  },
  {
   "cell_type": "markdown",
   "metadata": {
    "nbgrader": {
     "grade": false,
     "grade_id": "cell-25bca86466ee45bb",
     "locked": true,
     "schema_version": 3,
     "solution": false,
     "task": false
    }
   },
   "source": [
    "# Assignment 01 - Statistics (15 points total)\n",
    "<span style='color:red'> Due date: 18.05.2021 23:59</span>\n",
    "\n",
    "This week's assignment is about basic statistics. If anything is unlcear or if you find errors, feel free to post in the forum set up in Ilias or in the WebEx live session, or write an email to one of us.\n",
    "\n",
    "_You can submit incomplete assignments that don't validate_. If a test cell validates correctly, you will get the points.\n",
    "\n",
    "**This assignment is optional**, but the points you get here will count towards the 80% necessary to pass."
   ]
  },
  {
   "cell_type": "markdown",
   "metadata": {
    "nbgrader": {
     "grade": false,
     "grade_id": "cell-90d820853aa97aa3",
     "locked": true,
     "schema_version": 3,
     "solution": false,
     "task": false
    }
   },
   "source": [
    "---"
   ]
  },
  {
   "cell_type": "markdown",
   "metadata": {
    "nbgrader": {
     "grade": false,
     "grade_id": "cell-b406c5cd9cc32edd",
     "locked": true,
     "schema_version": 3,
     "solution": false,
     "task": false
    }
   },
   "source": [
    "## Expectation Value of Die Throws (8 points)\n",
    "Consider an unbiased 6-sided die $D_1$. Below, create a function called `compile_solution_space` that, given the number of `sides` of a die, returns a list of all the results a single die throw can yield. Make it as general as possible, such that when you consider a 10-sided die it would give the correct list. It should look like `[1, 2, 3, ...]`."
   ]
  },
  {
   "cell_type": "code",
   "execution_count": 2,
   "metadata": {
    "nbgrader": {
     "grade": false,
     "grade_id": "cell-8964fe1209eb136c",
     "locked": false,
     "schema_version": 3,
     "solution": true,
     "task": false
    }
   },
   "outputs": [
    {
     "name": "stdout",
     "output_type": "stream",
     "text": [
      "[1, 2, 3, 4, 5, 6]\n"
     ]
    }
   ],
   "source": [
    "D_1_sides = 6\n",
    "\n",
    "def compile_single_solution_space(sides):\n",
    "    ### BEGIN SOLUTION\n",
    "    return [eyes+1 for eyes in range(sides)]\n",
    "    ### END SOLUTION\n",
    "    \n",
    "print(compile_single_solution_space(D_1_sides))"
   ]
  },
  {
   "cell_type": "code",
   "execution_count": 3,
   "metadata": {
    "nbgrader": {
     "grade": true,
     "grade_id": "cell-04992d0f1791bff9",
     "locked": true,
     "points": 1,
     "schema_version": 3,
     "solution": false,
     "task": false
    }
   },
   "outputs": [],
   "source": [
    "assert compile_single_solution_space(-2) == []\n"
   ]
  },
  {
   "cell_type": "markdown",
   "metadata": {
    "nbgrader": {
     "grade": false,
     "grade_id": "cell-51984328f98ab8ee",
     "locked": true,
     "schema_version": 3,
     "solution": false,
     "task": false
    }
   },
   "source": [
    "Next, we need the sample space of two dice. There are multiple ways to do this, but let's use the following way:\n",
    "\n",
    "Create a function `compile_double_solution_space` that takes as input two single die throw solution spaces `space1` and `space2`, each created by the function from before and named `D_1` and `D_2`. The function should return a list of lists, where each inner list contains two values, giving the result of the double die throw. It should look like this: `[[1, 1], [1, 2], ...]` and have 36 elements in total."
   ]
  },
  {
   "cell_type": "code",
   "execution_count": 4,
   "metadata": {
    "nbgrader": {
     "grade": false,
     "grade_id": "cell-55235bc9496a0b75",
     "locked": false,
     "schema_version": 3,
     "solution": true,
     "task": false
    }
   },
   "outputs": [
    {
     "name": "stdout",
     "output_type": "stream",
     "text": [
      "[[1, 1], [1, 2], [1, 3], [1, 4], [1, 5], [1, 6], [2, 1], [2, 2], [2, 3], [2, 4], [2, 5], [2, 6], [3, 1], [3, 2], [3, 3], [3, 4], [3, 5], [3, 6], [4, 1], [4, 2], [4, 3], [4, 4], [4, 5], [4, 6], [5, 1], [5, 2], [5, 3], [5, 4], [5, 5], [5, 6], [6, 1], [6, 2], [6, 3], [6, 4], [6, 5], [6, 6]]\n"
     ]
    }
   ],
   "source": [
    "D_1 = compile_single_solution_space(D_1_sides)\n",
    "D_2 = compile_single_solution_space(D_1_sides)\n",
    "\n",
    "def compile_double_solution_space(space1, space2):\n",
    "    ### BEGIN SOLUTION\n",
    "    return [[state1, state2] for state1 in space1 for state2 in space2]\n",
    "    ### END SOLUTION\n",
    "\n",
    "D_1_2 = compile_double_solution_space(D_1, D_2)\n",
    "print(D_1_2)"
   ]
  },
  {
   "cell_type": "code",
   "execution_count": 5,
   "metadata": {
    "nbgrader": {
     "grade": true,
     "grade_id": "cell-a60468681cd0f80b",
     "locked": true,
     "points": 2,
     "schema_version": 3,
     "solution": false,
     "task": false
    }
   },
   "outputs": [],
   "source": [
    "from itertools import product\n",
    "combs1 = compile_double_solution_space([i+1 for i in range(11)], [i+1 for i in range(11)])\n",
    "combs2 = [[i, j] for (i, j) in product([i+1 for i in range(11)], repeat=2)]\n",
    "assert combs1 == combs2"
   ]
  },
  {
   "cell_type": "markdown",
   "metadata": {
    "nbgrader": {
     "grade": false,
     "grade_id": "cell-ee1b7d43e6750e36",
     "locked": true,
     "schema_version": 3,
     "solution": false,
     "task": false
    }
   },
   "source": [
    "The sample space created above contains all results, respecting the order in which they occured. What we did now was to simply combine the sample spaces of two independent random variables that were uniformly distributed, so each result in this new sample space should still follow a uniform distribution.\n",
    "\n",
    "To calculate the expectation value, we need the corresponding probabilites. In the code below, create a function called `pmf_uniform` that returns a list of probabilities for a given list of states, assuming they follow a uniform distribution:"
   ]
  },
  {
   "cell_type": "code",
   "execution_count": 9,
   "metadata": {
    "nbgrader": {
     "grade": false,
     "grade_id": "cell-97b4894ce4e53f67",
     "locked": false,
     "schema_version": 3,
     "solution": true,
     "task": false
    }
   },
   "outputs": [
    {
     "name": "stdout",
     "output_type": "stream",
     "text": [
      "[0.16666666666666666, 0.16666666666666666, 0.16666666666666666, 0.16666666666666666, 0.16666666666666666, 0.16666666666666666]\n",
      "[0.16666666666666666, 0.16666666666666666, 0.16666666666666666, 0.16666666666666666, 0.16666666666666666, 0.16666666666666666]\n",
      "[0.027777777777777776, 0.027777777777777776, 0.027777777777777776, 0.027777777777777776, 0.027777777777777776, 0.027777777777777776, 0.027777777777777776, 0.027777777777777776, 0.027777777777777776, 0.027777777777777776, 0.027777777777777776, 0.027777777777777776, 0.027777777777777776, 0.027777777777777776, 0.027777777777777776, 0.027777777777777776, 0.027777777777777776, 0.027777777777777776, 0.027777777777777776, 0.027777777777777776, 0.027777777777777776, 0.027777777777777776, 0.027777777777777776, 0.027777777777777776, 0.027777777777777776, 0.027777777777777776, 0.027777777777777776, 0.027777777777777776, 0.027777777777777776, 0.027777777777777776, 0.027777777777777776, 0.027777777777777776, 0.027777777777777776, 0.027777777777777776, 0.027777777777777776, 0.027777777777777776]\n"
     ]
    }
   ],
   "source": [
    "def pmf_uniform(sample_space):\n",
    "    ### BEGIN SOLUTION\n",
    "    return len(sample_space) * [1/len(sample_space)]\n",
    "    ### END SOLUTION\n",
    "    \n",
    "prob_D_1   = pmf_uniform(D_1)\n",
    "prob_D_2   = pmf_uniform(D_2)\n",
    "prob_D_1_2 = pmf_uniform(D_1_2)\n",
    "\n",
    "print(prob_D_1)\n",
    "print(prob_D_2)\n",
    "print(prob_D_1_2)"
   ]
  },
  {
   "cell_type": "code",
   "execution_count": 10,
   "metadata": {
    "nbgrader": {
     "grade": true,
     "grade_id": "cell-1509a5af0637e622",
     "locked": true,
     "points": 1,
     "schema_version": 3,
     "solution": false,
     "task": false
    }
   },
   "outputs": [],
   "source": []
  },
  {
   "cell_type": "markdown",
   "metadata": {
    "nbgrader": {
     "grade": false,
     "grade_id": "cell-1c045ff3139f4bb8",
     "locked": true,
     "schema_version": 3,
     "solution": false,
     "task": false
    }
   },
   "source": [
    "Before we can calculate the expectation value for the double die throw, we need to get a list of the sum of each result. Below, create a function called `double_die_sums` that takes as input the state space of two dice `D_1_2` and outputs a list of the corresponding sums. It should look like `[2, 3, ...]`, where numbers need not be unique."
   ]
  },
  {
   "cell_type": "code",
   "execution_count": 12,
   "metadata": {
    "nbgrader": {
     "grade": false,
     "grade_id": "cell-cd709a84a3f8a4e4",
     "locked": false,
     "schema_version": 3,
     "solution": true,
     "task": false
    }
   },
   "outputs": [
    {
     "name": "stdout",
     "output_type": "stream",
     "text": [
      "[2, 3, 4, 5, 6, 7, 3, 4, 5, 6, 7, 8, 4, 5, 6, 7, 8, 9, 5, 6, 7, 8, 9, 10, 6, 7, 8, 9, 10, 11, 7, 8, 9, 10, 11, 12]\n"
     ]
    }
   ],
   "source": [
    "def double_die_sums(sample_space):\n",
    "    ### BEGIN SOLUTION\n",
    "    return [sum(state) for state in sample_space]\n",
    "    ### END SOLUTION\n",
    "    \n",
    "sums_D_1_2 = double_die_sums(D_1_2)\n",
    "print(sums_D_1_2)"
   ]
  },
  {
   "cell_type": "code",
   "execution_count": 13,
   "metadata": {
    "nbgrader": {
     "grade": true,
     "grade_id": "cell-8abc2f30de565ec1",
     "locked": true,
     "points": 2,
     "schema_version": 3,
     "solution": false,
     "task": false
    }
   },
   "outputs": [],
   "source": []
  },
  {
   "cell_type": "markdown",
   "metadata": {
    "nbgrader": {
     "grade": false,
     "grade_id": "cell-2cbdaafda1537872",
     "locked": true,
     "schema_version": 3,
     "solution": false,
     "task": false
    }
   },
   "source": [
    "Now we can calculate the expectation value of each sample space. Create a function below called `expectation`, that takes as input a sample space of only numbers and a corresponding probability list, then returns the expectation value. The sample space of the double die throw is the list of the sums `sums_D_1_2` created above."
   ]
  },
  {
   "cell_type": "code",
   "execution_count": 14,
   "metadata": {
    "nbgrader": {
     "grade": false,
     "grade_id": "cell-8002522345a49c1e",
     "locked": false,
     "schema_version": 3,
     "solution": true,
     "task": false
    }
   },
   "outputs": [
    {
     "name": "stdout",
     "output_type": "stream",
     "text": [
      "E[D_1]   =  3.4999999999999996\n",
      "E[D_2]   =  3.4999999999999996\n",
      "E[D_1_2] =  6.999999999999963\n"
     ]
    }
   ],
   "source": [
    "def expectation(sample_space, probs):\n",
    "    ### BEGIN SOLUTION\n",
    "    return sum([s * p / len(sample_space) for s in sample_space for p in probs])\n",
    "    ### END SOLUTION\n",
    "\n",
    "E_D_1   = expectation(D_1, prob_D_1)\n",
    "E_D_2   = expectation(D_2, prob_D_2)\n",
    "E_D_1_2 = expectation(sums_D_1_2, prob_D_1_2)\n",
    "\n",
    "print(\"E[D_1]   = \", E_D_1)\n",
    "print(\"E[D_2]   = \", E_D_2)\n",
    "print(\"E[D_1_2] = \", E_D_1_2)"
   ]
  },
  {
   "cell_type": "code",
   "execution_count": 15,
   "metadata": {
    "nbgrader": {
     "grade": true,
     "grade_id": "cell-74c3a09a0b953aad",
     "locked": true,
     "points": 2,
     "schema_version": 3,
     "solution": false,
     "task": false
    }
   },
   "outputs": [],
   "source": [
    "from numpy import isclose\n",
    "n = 10\n",
    "assert isclose(expectation([x**2 for x in range(n)], n*[1/n])*n, sum([x**2 for x in range(n)]))"
   ]
  },
  {
   "cell_type": "markdown",
   "metadata": {
    "nbgrader": {
     "grade": false,
     "grade_id": "cell-d7078c5a1a7b2b30",
     "locked": true,
     "schema_version": 3,
     "solution": false,
     "task": false
    }
   },
   "source": [
    "Let's plot the possible sums and their occurence as a distribution:"
   ]
  },
  {
   "cell_type": "code",
   "execution_count": 16,
   "metadata": {
    "nbgrader": {
     "grade": false,
     "grade_id": "cell-a002634030207145",
     "locked": true,
     "schema_version": 3,
     "solution": false,
     "task": false
    }
   },
   "outputs": [
    {
     "data": {
      "image/png": "[encoded data removed]",
      "text/plain": [
       "<Figure size 576x360 with 1 Axes>"
      ]
     },
     "metadata": {
      "needs_background": "light"
     },
     "output_type": "display_data"
    }
   ],
   "source": [
    "import matplotlib.pyplot as plt\n",
    "\n",
    "\n",
    "plt.figure(figsize=([8,5]))\n",
    "plt.hist(sums_D_1_2, bins=len(set(sums_D_1_2)), density=False)\n",
    "plt.show()"
   ]
  },
  {
   "cell_type": "markdown",
   "metadata": {
    "nbgrader": {
     "grade": false,
     "grade_id": "cell-5886d82fb30f8cc5",
     "locked": true,
     "schema_version": 3,
     "solution": false,
     "task": false
    }
   },
   "source": [
    "Note how a higher occurence of a sum directly implies such a sum is more likely to be drawn from a random throw. The number of times a sum occurs is proportional to the number of different states that can build the specific sum. In other words, the probability to get a certain sum is proportional to the \"volume\" of the space belonging to that sum. \n",
    "\n",
    "Recall the notion of **entropy**, which is (roughly speaking) the volume of the configuration space of a system that corresponds to a fixed **energy** of the system. According to the second law of thermodynamics, all systems tend to maximize entropy. This is an explanation for why this is true. The larger the configuration space (number of ways a sum can be built) belonging to a certain energy (sum of two dice), the higher the probability to find the system in such a state.\n",
    "\n",
    "We will come back to the concept of entropy later in the course."
   ]
  },
  {
   "cell_type": "markdown",
   "metadata": {
    "nbgrader": {
     "grade": false,
     "grade_id": "cell-6a6a925d0a727d5f",
     "locked": true,
     "schema_version": 3,
     "solution": false,
     "task": false
    }
   },
   "source": [
    "---"
   ]
  },
  {
   "cell_type": "markdown",
   "metadata": {
    "nbgrader": {
     "grade": false,
     "grade_id": "cell-1bcafa5c6cd10d8e",
     "locked": true,
     "schema_version": 3,
     "solution": false,
     "task": false
    }
   },
   "source": [
    "## Central Limit Theorem (4 points)\n",
    "We can generalize the last exercise to an arbitrary number of dice and also to arbitrary dice using the `product` function from `itertools`. `product`takes a list (or tuple) of values and creates all subsets (with repetitions) that can be built using `repeat` number of entries from the list.\n",
    "\n",
    "Using more dice has an interesting corollary with strong statistical implications, which we can visualize below.\n",
    "\n",
    "What you need to complete in the next cell is to compute the *mean* and *average* of the array `sums`. Feel free to set `print` statements to see how different variables look like."
   ]
  },
  {
   "cell_type": "code",
   "execution_count": 3,
   "metadata": {
    "nbgrader": {
     "grade": false,
     "grade_id": "cell-fc10361125870f25",
     "locked": false,
     "schema_version": 3,
     "solution": true,
     "task": false
    }
   },
   "outputs": [
    {
     "data": {
      "application/vnd.jupyter.widget-view+json": {
       "model_id": "f368756083ed476a99ef029681d37e29",
       "version_major": 2,
       "version_minor": 0
      },
      "text/plain": [
       "interactive(children=(IntSlider(value=6, continuous_update=False, description='sides', max=10, min=2), IntSlid…"
      ]
     },
     "metadata": {},
     "output_type": "display_data"
    },
    {
     "data": {
      "text/plain": [
       "<function __main__.plot_n_die_space(sides, n_dice, plot_gauss)>"
      ]
     },
     "execution_count": 3,
     "metadata": {},
     "output_type": "execute_result"
    }
   ],
   "source": [
    "from ipywidgets import interact, interactive, fixed, interact_manual\n",
    "import ipywidgets as widgets\n",
    "from numpy import linspace, sqrt\n",
    "import scipy.stats as stats\n",
    "import matplotlib.pyplot as plt\n",
    "from itertools import product\n",
    "\n",
    "def plot_n_die_space(sides, n_dice, plot_gauss):\n",
    "    combs = product([i+1 for i in range(sides)], repeat=n_dice)\n",
    "    sums = [sum(tup) for tup in combs]\n",
    "    \n",
    "    plt.figure(figsize=([8,5]))\n",
    "    plt.hist(sums, bins=len(set(sums)), density=True)\n",
    "    if plot_gauss:\n",
    "        # calculate the mean of the list \"sums\" in the variable \"mean\" here\n",
    "        # then the variance of \"sums\" in a variable called \"variance\"\n",
    "        ### BEGIN SOLUTION\n",
    "        mean = sum(sums)/len(sums)\n",
    "        variance = sum((val - mean) ** 2 for val in sums) / len(sums)\n",
    "        ### END SOLUTION\n",
    "        samples = 100\n",
    "        x = linspace(min(sums), max(sums), samples)\n",
    "        plt.plot(x, stats.norm.pdf(x, loc=mean, scale=sqrt(variance)), color=\"darkorange\", lw=2.5)\n",
    "    plt.show()\n",
    "    \n",
    "interact(plot_n_die_space, \n",
    "         sides=widgets.IntSlider(min=2, max=10, value=6, continuous_update=False), \\\n",
    "         n_dice=widgets.IntSlider(min=1, max=8, value=3, continuous_update=False), \\\n",
    "         plot_gauss=widgets.ToggleButton(value=False, description=\"Plot Gauss curve\"))"
   ]
  },
  {
   "cell_type": "markdown",
   "metadata": {
    "nbgrader": {
     "grade": false,
     "grade_id": "cell-a64bc0089117737b",
     "locked": true,
     "schema_version": 3,
     "solution": false,
     "task": false
    }
   },
   "source": [
    "<font color='red'>Please don't increase the values here beyond the ones given by the sliders, this is a very inefficient way of doing things and might take a long time to complete.</font>\n",
    "\n",
    "Note how using more dice gets the distribution closer and closer to a **Bell curve/Gaussian distribution** (actually, we would have to randomly draw samples from the sample space, but the result would be the same). This is called the **Central Limit Theorem** and occurs when adding sufficiently many random variables of *arbitrary* distribution.\n",
    "\n",
    "One of the implications is the following:<br />\n",
    "Suppose 10 different manufacturers each sent you 100 samples of some material each and you would like to calculate the mean yield strength of all samples you received, plus the variance. The naive way would be to do a tensile test on all 1000 samples, add their yield strengths and divide by 1000. This is obviously not practical. Instead, you could do the following:\n",
    "\n",
    "[1] Draw groups of specimen at random. Each group is a **sample**. Draw multiple samples, each consisting of, say, 10 specimen. <br />\n",
    "[2] Calculate the mean of each of these samples.<br /> \n",
    "[3] Calculate the mean of these means. <br />\n",
    "\n",
    "This will give you an approximate mean of the yield strength of *all* the specimen you received from the companies. The variance can be calculated from the samples using $V_\\mathrm{sample} = \\frac{V_\\mathrm{full}}{\\sqrt{\\mathrm{samplesize}}}$.\n",
    "\n",
    "The criteria to be able to use this are:\n",
    "\n",
    "[1] The data must be sampled randomly.<br />\n",
    "[2] Samples must be independent of each other.<br />\n",
    "[3] Sample size should be less than $\\sim 10\\%$ of the full number of specimen<br />\n",
    "[4] Sample size must still be sufficiently large (depending on the full specimen distribution).<br />"
   ]
  },
  {
   "cell_type": "markdown",
   "metadata": {
    "nbgrader": {
     "grade": false,
     "grade_id": "cell-0ebff724d5318825",
     "locked": true,
     "schema_version": 3,
     "solution": false,
     "task": false
    }
   },
   "source": [
    "---"
   ]
  },
  {
   "cell_type": "markdown",
   "metadata": {
    "nbgrader": {
     "grade": false,
     "grade_id": "cell-1f1985621e48dddc",
     "locked": true,
     "schema_version": 3,
     "solution": false,
     "task": false
    }
   },
   "source": [
    "## Bayes' Theorem (3 points)\n",
    "You can ask the inverse question to the question from the lecture. Instead of calculating how well a test works by calculating $P(d|+)$, we can assume a certain probability we desire and set a requirement for the accuracy of a test. Suppose there is a test again, and some machinery that is either defective or functional. The state spaces accordingly are $T = \\{+,-\\}$ (positive and negative test result) and $S = \\{d, f\\}$ (defective and functional). Given is a base probability of a machine being defective of $P(d) = 0.04$ and a desired test performance of $P(d|+) = 0.95$.\n",
    "\n",
    "Use either the cell below or your own method to calculate the necessary test accuracy $P(+|d)$. Save your result in the variable `p_p_given_d` below with 5 digits after the comma (as in `p_p_given_d = 0.12345`). Recall the rule of complements, such as in $P(+|f) = 1 - P(+|d)$ (assuming the probabilities for true positives and true negatives are the same)."
   ]
  },
  {
   "cell_type": "code",
   "execution_count": 17,
   "metadata": {
    "nbgrader": {
     "grade": false,
     "grade_id": "cell-90b671bae7175a68",
     "locked": false,
     "schema_version": 3,
     "solution": true,
     "task": false
    }
   },
   "outputs": [],
   "source": [
    "# save your result in a variable called \"p_p_given_d\"\n",
    "### BEGIN SOLUTION\n",
    "p_d_given_p = 0.95\n",
    "p_d = 0.04\n",
    "\n",
    "p_p_given_d = p_d_given_p * (1 - p_d) / (p_d - p_d_given_p * p_d + p_d_given_p * (1 - p_d))\n",
    "#p_p_given_d = 0.99781\n",
    "# put the following in a markdown cell to get formula:\n",
    "#\\begin{equation}\n",
    "#  P(d|+) = \\frac{P(+|d)\\cdot P(d)}{P(+|d)\\cdot P(d) + P(+|f)\\cdot P(f)}\n",
    "#\\end{equation}\n",
    "#\n",
    "#with $P(+|f) = 1 - P(+|d)$ and $P(f) = 1 - P(d)$:\n",
    "#\n",
    "#\\begin{equation}\n",
    "#  P(+|d) = \\frac{P(d|+)\\cdot P(f)}{P(d) - P(d|+)\\cdot P(d) + P(d|+)\\cdot P(f)}\n",
    "#\\end{equation}\n",
    "### END SOLUTION"
   ]
  },
  {
   "cell_type": "code",
   "execution_count": 18,
   "metadata": {
    "nbgrader": {
     "grade": true,
     "grade_id": "cell-073be5a917a9b8d0",
     "locked": true,
     "points": 3,
     "schema_version": 3,
     "solution": false,
     "task": false
    }
   },
   "outputs": [],
   "source": []
  },
  {
   "cell_type": "markdown",
   "metadata": {},
   "source": [
    "\\begin{equation}\n",
    "  P(d|+) = \\frac{P(+|d)\\cdot P(d)}{P(+|d)\\cdot P(d) + P(+|f)\\cdot P(f)}\n",
    "\\end{equation}\n",
    "\n",
    "with $P(+|f) = 1 - P(+|d)$ and $P(f) = 1 - P(d)$:\n",
    "\n",
    "\\begin{equation}\n",
    "  P(+|d) = \\frac{P(d|+)\\cdot P(f)}{P(d) - P(d|+)\\cdot P(d) + P(d|+)\\cdot P(f)}\n",
    "\\end{equation}"
   ]
  }
 ],
 "metadata": {
  "kernelspec": {
   "display_name": "Python 3",
   "language": "python",
   "name": "python3"
  },
  "language_info": {
   "codemirror_mode": {
    "name": "ipython",
    "version": 3
   },
   "file_extension": ".py",
   "mimetype": "text/x-python",
   "name": "python",
   "nbconvert_exporter": "python",
   "pygments_lexer": "ipython3",
   "version": "3.7.3"
  }
 },
 "nbformat": 4,
 "nbformat_minor": 4
}
