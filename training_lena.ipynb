{
    "cells": [
        {
            "cell_type": "markdown",
            "source": [
                "Try to use Colab"
            ],
            "metadata": {}
        },
        {
            "cell_type": "markdown",
            "source": [
                "Training starts here"
            ],
            "metadata": {}
        },
        {
            "cell_type": "code",
            "execution_count": null,
            "source": [
                "import custom\r\n",
                "import create_model\r\n",
                "from importlib import reload"
            ],
            "outputs": [],
            "metadata": {}
        },
        {
            "cell_type": "code",
            "execution_count": null,
            "source": [
                "reload(custom)\r\n",
                "from custom import *\r\n",
                "\r\n",
                "from load_data import CustomDataGenerator\r\n",
                "\r\n",
                "train, validation = CustomDataGenerator.generate_data(batch_size, img_dir, mask_dir,\r\n",
                "                                                        horizontal_split, vertical_split, image_extension, mask_extension, \r\n",
                "                                                        preprocess_fcn, validation_split=0.1, flip=True, shift = shift, onelabel=onelabel, seed=seed)"
            ],
            "outputs": [],
            "metadata": {}
        },
        {
            "cell_type": "code",
            "execution_count": null,
            "source": [
                "#train.plot_batch(3)\r\n",
                "\r\n",
                "img, mask = train.__getitem__(2)\r\n",
                "print(img.min())\r\n",
                "print(img.max())\r\n",
                "print(mask.min())\r\n",
                "print(mask.max())\r\n",
                "print(train.classes)"
            ],
            "outputs": [],
            "metadata": {}
        },
        {
            "cell_type": "code",
            "execution_count": null,
            "source": [
                "#from keras import backend\r\n",
                "#K = keras.backend.backend()\r\n",
                "import tensorflow as tf\r\n",
                "\r\n",
                "reload(custom)\r\n",
                "from custom import *\r\n",
                "\r\n",
                "reload(create_model)\r\n",
                "from create_model import generate_model\r\n",
                "\r\n",
                "import tensorflow.keras.losses as losses\r\n",
                "from tensorflow.keras import backend\r\n",
                "\r\n",
                "model = generate_model(img_size)\r\n",
                "#from segnet_model2 import create_segnet\r\n",
                "#from segnet_model import create_segnet\r\n",
                "#from segnet_model_lenaWithLayers_ import create_segnet\r\n",
                "#from segnetSimple import create_segnet\r\n",
                "#from segnet_vgg16_001 import SegNet_VGG16\r\n",
                "\r\n",
                "# if onelabel == True:\r\n",
                "#     n_labels = 1\r\n",
                "# else:\r\n",
                "#     n_labels = 3\r\n",
                "# model = create_segnet(input_shape=(256,256,3), n_labels=n_labels, output_mode=\"sigmoid\")\r\n",
                "#model = SegNet_VGG16(input_shape=(256,256,3), num_classes=n_labels)\r\n",
                "\r\n",
                "#model = create_segnet(input_shape=(256,256,3), n_labels=n_labels, output_mode=\"softmax\")\r\n",
                "#model = create_segnet(input_shape=(256,256,3), n_labels=n_labels, output_mode=\"softmax\")\r\n",
                "#model = SegNet(input_shape=(256,256,3), classes=n_labels)\r\n",
                "#from segnet4 import segnet\r\n",
                "\r\n",
                "#from unetsegnet import generate_model\r\n",
                "#model = generate_model()\r\n",
                "\r\n",
                "\r\n",
                "#model = segnet(input_shape=(256,256,3), n_labels=n_labels)\r\n",
                "\r\n",
                "#opti = tf.keras.optimizers.Adam(learning_rate=0.01)\r\n",
                "model.compile(optimizer='adam',\r\n",
                "                loss=loss,\r\n",
                "                metrics=['accuracy'])\r\n",
                "\r\n",
                "model.summary()\r\n",
                "#print(model.optimizer.learning_rate.numpy())\r\n",
                "#backend.set_value(model.optimizer.learning_rate, 0.01)\r\n",
                "#print(model.optimizer.learning_rate.numpy())\r\n",
                "\r\n",
                "#from segnet_test import *\r\n",
                "\r\n",
                "#test_max_pooling_argmax()\r\n",
                "\r\n",
                "#test_max_unpooling()\r\n",
                "\r\n"
            ],
            "outputs": [],
            "metadata": {}
        },
        {
            "cell_type": "code",
            "execution_count": null,
            "source": [
                "reload(custom)\r\n",
                "from custom import *\r\n",
                "\r\n",
                "history = model.fit(x=train, validation_data = validation, epochs=epochs, steps_per_epoch=steps_per_epoch, verbose=1, shuffle=True)#callbacks=[callback], verbose=1, shuffle=True)"
            ],
            "outputs": [],
            "metadata": {}
        },
        {
            "cell_type": "code",
            "execution_count": null,
            "source": [
                "import matplotlib.pyplot as plt\r\n",
                "\r\n",
                "plt.figure(figsize=(12,7))\r\n",
                "plt.plot(history.history[\"loss\"], lw=4, label=\"loss\")\r\n",
                "plt.plot(history.history[\"val_loss\"], lw=4, label=\"val_loss\")\r\n",
                "plt.legend()\r\n",
                "#plt.ylim(top=1.5, bottom=0.4)\r\n",
                "plt.savefig(\"loss.png\")"
            ],
            "outputs": [],
            "metadata": {}
        },
        {
            "cell_type": "code",
            "execution_count": null,
            "source": [
                "images, masks = train.__getitem__(6)\r\n",
                "preds = model.predict(x=images, verbose=1)\r\n",
                "#print(preds[1])\r\n",
                "\r\n",
                "train.plot_prediction(6, preds)"
            ],
            "outputs": [],
            "metadata": {}
        },
        {
            "cell_type": "code",
            "execution_count": null,
            "source": [
                "reload(custom)\r\n",
                "from custom import *\r\n",
                "\r\n",
                "import pandas as pd\r\n",
                "import os\r\n",
                "\r\n",
                "os.mkdir(dir_name)\r\n",
                "\r\n",
                "from shutil import copyfile\r\n",
                "copyfile(\"custom.py\", dir_name + \"/custom.py\")\r\n",
                "copyfile(\"create_model.py\", dir_name + \"/create_model.py\")\r\n",
                "\r\n",
                "\r\n",
                "# convert the history.history dict to a pandas DataFrame:     \r\n",
                "hist_df = pd.DataFrame(history.history) \r\n",
                "\r\n",
                "# save to json:  \r\n",
                "hist_json_file = dir_name + '/history.json' \r\n",
                "with open(hist_json_file, mode='w') as f:\r\n",
                "    hist_df.to_json(f)\r\n",
                "\r\n",
                "#save model\r\n",
                "model.save(dir_name + \"/model.tf\", include_optimizer = True)\r\n",
                "model.save_weights(dir_name + \"/weights.tf\")"
            ],
            "outputs": [],
            "metadata": {}
        }
    ],
    "metadata": {
        "orig_nbformat": 4,
        "language_info": {
            "name": "python",
            "version": "3.8.10",
            "mimetype": "text/x-python",
            "codemirror_mode": {
                "name": "ipython",
                "version": 3
            },
            "pygments_lexer": "ipython3",
            "nbconvert_exporter": "python",
            "file_extension": ".py"
        },
        "kernelspec": {
            "name": "python3",
            "display_name": "Python 3.8.10 64-bit (windows store)"
        },
        "interpreter": {
            "hash": "3a15bfa232e543687314c1f481ee600349622b18d0cc918f4ae52f745c138b07"
        }
    },
    "nbformat": 4,
    "nbformat_minor": 2
}