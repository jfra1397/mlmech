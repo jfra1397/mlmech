{
 "cells": [
  {
   "cell_type": "code",
   "execution_count": null,
   "source": [
    "import tensorflow as tf\n",
    "from results.julian.unet_binary.custom import *\n",
    "model_path = \"results/julian/unet_binary/model.tf\"\n",
    "from load_data_predict import CustomDataGeneratorPredict"
   ],
   "outputs": [],
   "metadata": {}
  },
  {
   "cell_type": "code",
   "execution_count": null,
   "source": [
    "img_dir = \"PredImages/\"\n",
    "mask_dir = \"PredLabels/\"\n",
    "image_extension = \".png\"\n",
    "mask_extension = \".png\"\n",
    "horizontal_split = 12\n",
    "vertical_split = 1\n",
    "data_list = [[\"ckokey6vd002b3g68q5mmclyi\", 3, 0],\n",
    "                    [\"ckoklbzlb06qe3g688yq4w56s\", 7, 0],\n",
    "                    [\"ckokf3nzs00473g68e456ksi3\", 1, 0]]\n",
    "# ###### Unet big pictures ########\n",
    "# data_list = [[\"ckokey6vd002b3g68q5mmclyi\", 0, 0],\n",
    "#                     [\"ckoklbzlb06qe3g688yq4w56s\", 0, 0],\n",
    "#                     [\"ckokf3nzs00473g68e456ksi3\", 0, 0]]\n",
    "\n",
    "test = CustomDataGeneratorPredict(data_list, img_dir, mask_dir, horizontal_split, vertical_split, image_extension, mask_extension, preprocess_fcn, onelabel)\n",
    "\n",
    "test.plot_batch()\n",
    "\n",
    "img, mask = test.__getitem__()\n",
    "print(img.min())\n",
    "print(img.max())\n",
    "print(mask.min())\n",
    "print(mask.max())\n",
    "print(test.classes)\n"
   ],
   "outputs": [],
   "metadata": {}
  },
  {
   "cell_type": "code",
   "execution_count": null,
   "source": [
    "model = tf.keras.models.load_model(model_path, custom_objects={\"dice_metric\": dice_metric, \"jaccard_distance_loss\": jaccard_distance_loss})\n",
    "model.summary()"
   ],
   "outputs": [],
   "metadata": {}
  },
  {
   "cell_type": "code",
   "execution_count": null,
   "source": [
    "preds = model.predict(x=img, verbose=1)\n",
    "\n",
    "test.plot_prediction(preds)"
   ],
   "outputs": [],
   "metadata": {}
  },
  {
   "cell_type": "code",
   "execution_count": null,
   "source": [
    "output_path = \"plots/predictions/unet/plot3_jaccard\"\n",
    "network_name = \"jaccard\"\n",
    "test.save_batch(output_path, net_name=network_name, predictions=preds)"
   ],
   "outputs": [],
   "metadata": {}
  }
 ],
 "metadata": {
  "orig_nbformat": 4,
  "language_info": {
   "name": "python",
   "version": "3.8.5",
   "mimetype": "text/x-python",
   "codemirror_mode": {
    "name": "ipython",
    "version": 3
   },
   "pygments_lexer": "ipython3",
   "nbconvert_exporter": "python",
   "file_extension": ".py"
  },
  "kernelspec": {
   "name": "python3",
   "display_name": "Python 3.8.5 64-bit"
  },
  "interpreter": {
   "hash": "767d51c1340bd893661ea55ea3124f6de3c7a262a8b4abca0554b478b1e2ff90"
  }
 },
 "nbformat": 4,
 "nbformat_minor": 2
}