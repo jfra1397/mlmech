{
 "cells": [
  {
   "cell_type": "code",
   "execution_count": null,
   "source": [
    "import tensorflow as tf\r\n",
    "from results.lena.mobilenetV2_MC_nS_vs01_e100.custom import *\r\n",
    "model_path = \"results/lena/mobilenetV2_MC_nS_vs01_e100/model.tf\"\r\n",
    "from load_data_predict import CustomDataGeneratorPredict"
   ],
   "outputs": [],
   "metadata": {}
  },
  {
   "cell_type": "code",
   "execution_count": null,
   "source": [
    "img_dir = \"PredImages/\"\r\n",
    "mask_dir = \"PredLabels/\"\r\n",
    "image_extension = \".png\"\r\n",
    "mask_extension = \".png\"\r\n",
    "horizontal_split = 12\r\n",
    "vertical_split = 1\r\n",
    "data_list = [[\"ckokey6vd002b3g68q5mmclyi\", 3, 0],\r\n",
    "                    [\"ckoklbzlb06qe3g688yq4w56s\", 7, 0],\r\n",
    "                    [\"ckokf3nzs00473g68e456ksi3\", 1, 0]]\r\n",
    "# ###### Unet big pictures ########\r\n",
    "# data_list = [[\"ckokey6vd002b3g68q5mmclyi\", 0, 0],\r\n",
    "#                     [\"ckoklbzlb06qe3g688yq4w56s\", 0, 0],\r\n",
    "#                     [\"ckokf3nzs00473g68e456ksi3\", 0, 0]]\r\n",
    "\r\n",
    "test = CustomDataGeneratorPredict(data_list, img_dir, mask_dir, horizontal_split, vertical_split, image_extension, mask_extension, preprocess_fcn, onelabel)\r\n",
    "\r\n",
    "test.plot_batch()\r\n",
    "\r\n",
    "img, mask = test.__getitem__()\r\n",
    "print(img.min())\r\n",
    "print(img.max())\r\n",
    "print(mask.min())\r\n",
    "print(mask.max())\r\n",
    "print(test.classes)\r\n"
   ],
   "outputs": [],
   "metadata": {}
  },
  {
   "cell_type": "code",
   "execution_count": null,
   "source": [
    "model = tf.keras.models.load_model(model_path)\r\n",
    "model.summary()"
   ],
   "outputs": [],
   "metadata": {}
  },
  {
   "cell_type": "code",
   "execution_count": null,
   "source": [
    "preds = model.predict(x=img, verbose=1)\r\n",
    "\r\n",
    "test.plot_prediction(preds)"
   ],
   "outputs": [],
   "metadata": {}
  },
  {
   "cell_type": "code",
   "execution_count": null,
   "source": [
    "output_path = \"plots/predictions/encoder_mC\"\r\n",
    "network_name = \"MNV2\"\r\n",
    "test.save_batch(output_path, net_name=network_name, predictions=preds)"
   ],
   "outputs": [],
   "metadata": {}
  }
 ],
 "metadata": {
  "orig_nbformat": 4,
  "language_info": {
   "name": "python",
   "version": "3.8.10",
   "mimetype": "text/x-python",
   "codemirror_mode": {
    "name": "ipython",
    "version": 3
   },
   "pygments_lexer": "ipython3",
   "nbconvert_exporter": "python",
   "file_extension": ".py"
  },
  "kernelspec": {
   "name": "python3",
   "display_name": "Python 3.8.10 64-bit (windows store)"
  },
  "interpreter": {
   "hash": "3a15bfa232e543687314c1f481ee600349622b18d0cc918f4ae52f745c138b07"
  }
 },
 "nbformat": 4,
 "nbformat_minor": 2
}