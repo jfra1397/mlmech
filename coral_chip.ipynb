{
 "cells": [
  {
   "cell_type": "code",
   "execution_count": null,
   "source": [
    "import tensorflow as tf\n"
   ],
   "outputs": [],
   "metadata": {}
  },
  {
   "cell_type": "code",
   "execution_count": null,
   "source": [
    "model_path = \"results/samuel/MobileNetV2_MC_KerasModel/model.tf\"\n",
    "model = tf.keras.models.load_model(model_path)\n",
    "model.input.set_shape((1,256,256,3))\n",
    "model.summary()"
   ],
   "outputs": [],
   "metadata": {}
  },
  {
   "cell_type": "code",
   "execution_count": null,
   "source": [
    "#converter = tf.lite.TFLiteConverter.from_saved_model(model_path)\n",
    "converter = tf.lite.TFLiteConverter.from_keras_model(model)\n",
    "converter.experimental_new_converter = True\n",
    "converter.optimizations = [tf.lite.Optimize.DEFAULT]\n",
    "tflite_model = converter.convert()\n",
    "\n",
    "\n",
    "# Save the model.\n",
    "with open('results/samuel/MobileNetV2_MC_KerasModel/model.tflite', 'wb') as f:\n",
    "  f.write(tflite_model)\n",
    "\n"
   ],
   "outputs": [],
   "metadata": {}
  },
  {
   "cell_type": "code",
   "execution_count": null,
   "source": [
    "from matplotlib import image\n",
    "import numpy as np\n",
    "\n",
    "with open(\"plots/predictions/encoder_sC/img_0.npy\", \"rb\") as f:\n",
    "    img = np.load(f)\n",
    "\n",
    "image.imsave(\"test.png\", img)"
   ],
   "outputs": [],
   "metadata": {}
  }
 ],
 "metadata": {
  "orig_nbformat": 4,
  "language_info": {
   "name": "python",
   "version": "3.8.5",
   "mimetype": "text/x-python",
   "codemirror_mode": {
    "name": "ipython",
    "version": 3
   },
   "pygments_lexer": "ipython3",
   "nbconvert_exporter": "python",
   "file_extension": ".py"
  },
  "kernelspec": {
   "name": "python3",
   "display_name": "Python 3.8.5 64-bit"
  },
  "interpreter": {
   "hash": "767d51c1340bd893661ea55ea3124f6de3c7a262a8b4abca0554b478b1e2ff90"
  }
 },
 "nbformat": 4,
 "nbformat_minor": 2
}