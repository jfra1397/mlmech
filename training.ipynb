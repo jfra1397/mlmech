{
    "cells": [
        {
            "cell_type": "markdown",
            "source": [
                "Try to use Colab"
            ],
            "metadata": {}
        },
        {
            "cell_type": "code",
            "execution_count": null,
            "source": [
                "# from google.colab import drive\n",
                "# drive.mount('/content/gdrive')\n",
                "# %cd /content/gdrive/My Drive\n",
                "# %rm -f -r mlmech\n",
                "# ! git clone https://github.com/jfra1397/mlmech.git\n",
                "# %cd mlmech"
            ],
            "outputs": [],
            "metadata": {}
        },
        {
            "cell_type": "code",
            "execution_count": null,
            "source": [
                "# !git checkout main\n",
                "# !git pull"
            ],
            "outputs": [],
            "metadata": {}
        },
        {
            "cell_type": "markdown",
            "source": [
                "Training starts here"
            ],
            "metadata": {}
        },
        {
            "cell_type": "code",
            "execution_count": null,
            "source": [
                "import custom\n",
                "import create_model\n",
                "from importlib import reload"
            ],
            "outputs": [],
            "metadata": {}
        },
        {
            "cell_type": "code",
            "execution_count": null,
            "source": [
                "reload(custom)\n",
                "from custom import *\n",
                "\n",
                "from load_data import CustomDataGenerator\n",
                "\n",
                "\n",
                "train, validation = CustomDataGenerator.generate_data(batch_size, img_dir, mask_dir,\n",
                "                                                        horizontal_split, vertical_split, image_extension, mask_extension, \n",
                "                                                        preprocess_fcn, validation_split=0.1, flip=True, shift = shift, onelabel=onelabel, seed=seed)# ,single_img=single_img)\n",
                "img_size = train.img_size\n",
                "print(img_size)\n",
                "mask_size = train.mask_size\n",
                "print(mask_size)"
            ],
            "outputs": [],
            "metadata": {}
        },
        {
            "cell_type": "code",
            "execution_count": null,
            "source": [
                "train.plot_batch(3)\n",
                "\n",
                "img, mask = train.__getitem__(2)\n",
                "print(img.min())\n",
                "print(img.max())\n",
                "print(mask.min())\n",
                "print(mask.max())\n",
                "print(train.classes)"
            ],
            "outputs": [],
            "metadata": {}
        },
        {
            "cell_type": "code",
            "execution_count": null,
            "source": [
                "reload(custom)\n",
                "from custom import *\n",
                "\n",
                "reload(create_model)\n",
                "from create_model import generate_model\n",
                "\n",
                "import tensorflow.keras.losses as losses\n",
                "\n",
                "model = generate_model(img_size)\n",
                "\n",
                "model.compile(optimizer='adam',\n",
                "                loss=loss,\n",
                "                metrics=[dice_metric, \"Accuracy\"])\n",
                "model.summary()"
            ],
            "outputs": [],
            "metadata": {}
        },
        {
            "cell_type": "code",
            "execution_count": null,
            "source": [
                "reload(custom)\n",
                "from custom import *\n",
                "\n",
                "history = model.fit(x=train, validation_data = validation, epochs=epochs, steps_per_epoch=steps_per_epoch, verbose=1, shuffle=True, callbacks=callback)"
            ],
            "outputs": [],
            "metadata": {}
        },
        {
            "cell_type": "code",
            "execution_count": null,
            "source": [
                "import matplotlib.pyplot as plt\n",
                "\n",
                "plt.figure(figsize=(12,7))\n",
                "plt.plot(history.history[\"loss\"], lw=4, label=\"loss\")\n",
                "plt.plot(history.history[\"val_loss\"], lw=4, label=\"val_loss\")\n",
                "plt.legend()"
            ],
            "outputs": [],
            "metadata": {}
        },
        {
            "cell_type": "code",
            "execution_count": null,
            "source": [
                "images, masks = train.__getitem__(2)\n",
                "preds = model.predict(x=images, verbose=1)\n",
                "\n",
                "train.plot_prediction(2, preds)"
            ],
            "outputs": [],
            "metadata": {}
        },
        {
            "cell_type": "code",
            "execution_count": null,
            "source": [
                "reload(custom)\n",
                "from custom import *\n",
                "\n",
                "import pandas as pd\n",
                "import os\n",
                "\n",
                "os.mkdir(dir_name)\n",
                "\n",
                "from shutil import copyfile\n",
                "copyfile(\"custom.py\", dir_name + \"/custom.py\")\n",
                "copyfile(\"create_model.py\", dir_name + \"/create_model.py\")\n",
                "\n",
                "\n",
                "# convert the history.history dict to a pandas DataFrame:     \n",
                "hist_df = pd.DataFrame(history.history) \n",
                "\n",
                "# save to json:  \n",
                "hist_json_file = dir_name + '/history.json' \n",
                "with open(hist_json_file, mode='w') as f:\n",
                "    hist_df.to_json(f)\n",
                "\n",
                "#save model\n",
                "model.save(dir_name + \"/model.tf\", include_optimizer = True)\n",
                "model.save_weights(dir_name + \"/weights.tf\")"
            ],
            "outputs": [],
            "metadata": {}
        }
    ],
    "metadata": {
        "orig_nbformat": 4,
        "language_info": {
            "name": "python",
            "version": "3.8.5",
            "mimetype": "text/x-python",
            "codemirror_mode": {
                "name": "ipython",
                "version": 3
            },
            "pygments_lexer": "ipython3",
            "nbconvert_exporter": "python",
            "file_extension": ".py"
        },
        "kernelspec": {
            "name": "python3",
            "display_name": "Python 3.8.5 64-bit"
        },
        "interpreter": {
            "hash": "767d51c1340bd893661ea55ea3124f6de3c7a262a8b4abca0554b478b1e2ff90"
        }
    },
    "nbformat": 4,
    "nbformat_minor": 2
}