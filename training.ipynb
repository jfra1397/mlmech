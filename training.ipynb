{
    "cells": [
        {
            "cell_type": "code",
            "execution_count": null,
            "source": [
                "from google.colab import drive\n",
                "drive.mount('/content/gdrive')\n",
                "%cd gdrive/My Drive/mlmech\n",
                "! git pull"
            ],
            "outputs": [],
            "metadata": {}
        },
        {
            "cell_type": "code",
            "execution_count": null,
            "source": [
                "import custom\n",
                "import create_model\n",
                "from importlib import reload"
            ],
            "outputs": [],
            "metadata": {}
        },
        {
            "cell_type": "code",
            "execution_count": null,
            "source": [
                "reload(custom)\n",
                "from custom import *\n",
                "\n",
                "from load_data import CustomDataGenerator\n",
                "\n",
                "\n",
                "img_dir = \"images/\"\n",
                "mask_dir = \"labels/\"\n",
                "image_extension = \".png\"\n",
                "mask_extension = \".png\"\n",
                "img_size = (256, 256)\n",
                "batch_size = 16\n",
                "horizontal_split = 12\n",
                "vertical_split = 1\n",
                "\n",
                "train, validation = CustomDataGenerator.generate_data(batch_size, img_size, img_dir, mask_dir,\n",
                "                                                        horizontal_split, vertical_split, image_extension, mask_extension, \n",
                "                                                        preprocess_fcn, validation_split=0.2, flip=True, shift = shift, onelabel=onelabel, seed=seed)"
            ],
            "outputs": [],
            "metadata": {}
        },
        {
            "cell_type": "code",
            "execution_count": null,
            "source": [
                "train.plot_batch(3)\n",
                "\n",
                "img, mask = train.__getitem__(2)\n",
                "print(img.min())\n",
                "print(img.max())\n",
                "print(mask.min())\n",
                "print(mask.max())\n",
                "print(train.classes)"
            ],
            "outputs": [],
            "metadata": {}
        },
        {
            "cell_type": "code",
            "execution_count": null,
            "source": [
                "reload(custom)\n",
                "from custom import *\n",
                "\n",
                "reload(create_model)\n",
                "from create_model import generate_model\n",
                "\n",
                "import tensorflow.keras.losses as losses\n",
                "\n",
                "model = generate_model()\n",
                "\n",
                "model.compile(optimizer='adam',\n",
                "                loss=loss,\n",
                "                metrics=['accuracy'])\n",
                "model.summary()"
            ],
            "outputs": [],
            "metadata": {}
        },
        {
            "cell_type": "code",
            "execution_count": null,
            "source": [
                "reload(custom)\n",
                "from custom import *\n",
                "\n",
                "history = model.fit(x=train, validation_data = validation, epochs=epochs, steps_per_epoch=steps_per_epoch, callbacks=[callback], verbose=1, shuffle=True)"
            ],
            "outputs": [],
            "metadata": {}
        },
        {
            "cell_type": "code",
            "execution_count": null,
            "source": [
                "import matplotlib.pyplot as plt\n",
                "\n",
                "plt.figure(figsize=(12,7))\n",
                "plt.plot(history.history[\"loss\"], lw=4, label=\"loss\")\n",
                "plt.plot(history.history[\"val_loss\"], lw=4, label=\"val_loss\")\n",
                "plt.legend()"
            ],
            "outputs": [],
            "metadata": {}
        },
        {
            "cell_type": "code",
            "execution_count": null,
            "source": [
                "images, masks = train.__getitem__(2)\n",
                "preds = model.predict(x=images, verbose=1)\n",
                "\n",
                "train.plot_prediction(2, preds)"
            ],
            "outputs": [],
            "metadata": {}
        },
        {
            "cell_type": "code",
            "execution_count": 2,
            "source": [
                "reload(custom)\n",
                "from custom import *\n",
                "\n",
                "import pandas as pd\n",
                "import os\n",
                "\n",
                "os.mkdir(dir_name)\n",
                "\n",
                "from shutil import copyfile\n",
                "copyfile(\"custom.py\", dir_name)\n",
                "copyfile(\"create_model\", dir_name)\n",
                "\n",
                "\n",
                "# convert the history.history dict to a pandas DataFrame:     \n",
                "hist_df = pd.DataFrame(history.history) \n",
                "\n",
                "# save to json:  \n",
                "hist_json_file = dir_name + '/history.json' \n",
                "with open(hist_json_file, mode='w') as f:\n",
                "    hist_df.to_json(f)\n",
                "\n",
                "#save model\n",
                "model.save(dir_name + \"/model.tf\", include_optimizer = True)\n",
                "model.save_weights(dir_name + \"/weights.tf\")"
            ],
            "outputs": [
                {
                    "output_type": "error",
                    "ename": "FileNotFoundError",
                    "evalue": "[Errno 2] No such file or directory: 'results/youre_name/attempt'",
                    "traceback": [
                        "\u001b[0;31m---------------------------------------------------------------------------\u001b[0m",
                        "\u001b[0;31mFileNotFoundError\u001b[0m                         Traceback (most recent call last)",
                        "\u001b[0;32m<ipython-input-2-57441414a5c9>\u001b[0m in \u001b[0;36m<module>\u001b[0;34m\u001b[0m\n\u001b[1;32m      5\u001b[0m \u001b[0;32mimport\u001b[0m \u001b[0mos\u001b[0m\u001b[0;34m\u001b[0m\u001b[0;34m\u001b[0m\u001b[0m\n\u001b[1;32m      6\u001b[0m \u001b[0;34m\u001b[0m\u001b[0m\n\u001b[0;32m----> 7\u001b[0;31m \u001b[0mos\u001b[0m\u001b[0;34m.\u001b[0m\u001b[0mmkdir\u001b[0m\u001b[0;34m(\u001b[0m\u001b[0mdir_name\u001b[0m\u001b[0;34m)\u001b[0m\u001b[0;34m\u001b[0m\u001b[0;34m\u001b[0m\u001b[0m\n\u001b[0m\u001b[1;32m      8\u001b[0m \u001b[0;34m\u001b[0m\u001b[0m\n\u001b[1;32m      9\u001b[0m \u001b[0;34m\u001b[0m\u001b[0m\n",
                        "\u001b[0;31mFileNotFoundError\u001b[0m: [Errno 2] No such file or directory: 'results/youre_name/attempt'"
                    ]
                }
            ],
            "metadata": {}
        }
    ],
    "metadata": {
        "orig_nbformat": 4,
        "language_info": {
            "name": "python",
            "version": "3.8.5",
            "mimetype": "text/x-python",
            "codemirror_mode": {
                "name": "ipython",
                "version": 3
            },
            "pygments_lexer": "ipython3",
            "nbconvert_exporter": "python",
            "file_extension": ".py"
        },
        "kernelspec": {
            "name": "python3",
            "display_name": "Python 3.8.5 64-bit"
        },
        "interpreter": {
            "hash": "767d51c1340bd893661ea55ea3124f6de3c7a262a8b4abca0554b478b1e2ff90"
        }
    },
    "nbformat": 4,
    "nbformat_minor": 2
}